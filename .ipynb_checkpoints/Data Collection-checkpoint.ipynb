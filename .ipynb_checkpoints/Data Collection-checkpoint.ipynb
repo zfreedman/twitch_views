{
 "cells": [
  {
   "cell_type": "markdown",
   "metadata": {},
   "source": [
    "# Data Collection\n",
    "This noteboook is responsible for autonomously collecting Twitch follower, concurrent view, and total view data."
   ]
  },
  {
   "cell_type": "markdown",
   "metadata": {},
   "source": [
    "## Imports"
   ]
  },
  {
   "cell_type": "code",
   "execution_count": 1,
   "metadata": {
    "collapsed": true
   },
   "outputs": [],
   "source": [
    "#SQL connection and queries\n",
    "import MySQLdb as mdb\n",
    "#Connection failure exiting\n",
    "import sys\n",
    "#Getting current time (after data is scraped) for stream table\n",
    "from time import gmtime, strftime, time, sleep\n",
    "#Scraping\n",
    "import urllib2\n",
    "from bs4 import BeautifulSoup as bs\n",
    "#Web automation\n",
    "from selenium import webdriver\n",
    "from selenium.webdriver.common.by import By\n",
    "from selenium.webdriver.support.ui import WebDriverWait\n",
    "from selenium.webdriver.support import expected_conditions as EC"
   ]
  },
  {
   "cell_type": "markdown",
   "metadata": {},
   "source": [
    "## File data\n",
    "Below the database credentials are read in. These are used for logging into the database, creating the necessary tables (if not already created), and storing data."
   ]
  },
  {
   "cell_type": "code",
   "execution_count": 2,
   "metadata": {
    "collapsed": true
   },
   "outputs": [],
   "source": [
    "db_user = \"\"\n",
    "db_pass = \"\"\n",
    "db_name = \"\"\n",
    "db_host = \"localhost\"\n",
    "with open(\"database_credentials.txt\") as f:\n",
    "    db_user = f.readline().strip()\n",
    "    db_pass = f.readline().strip()\n",
    "    db_name = f.readline().strip()\n",
    "#print(db_user, db_pass, db_name)"
   ]
  },
  {
   "cell_type": "markdown",
   "metadata": {},
   "source": [
    "## Database\n",
    "### Versioning\n",
    "Below the database is accessed using the specified username, password, and database name above. Note if the below code errors out, the rest of the database operations in this file will not produce expeted results (most likely will flat out not work)."
   ]
  },
  {
   "cell_type": "code",
   "execution_count": 23,
   "metadata": {
    "scrolled": true
   },
   "outputs": [
    {
     "name": "stdout",
     "output_type": "stream",
     "text": [
      "Database version: ('5.7.21-log',)\n"
     ]
    }
   ],
   "source": [
    "#Connect\n",
    "#def mdb_get_version():\n",
    "\"\"\"\n",
    "Connects to the database above using the obtained credentials.\n",
    "\"\"\"\n",
    "con = None\n",
    "try:\n",
    "    con = mdb.connect(host=db_host, user=db_user, passwd=db_pass, db=db_name)\n",
    "    cur = con.cursor()\n",
    "    cur.execute(\"SELECT VERSION()\")\n",
    "    data = cur.fetchone()\n",
    "    print(\"Database version: {}\".format(data))\n",
    "except mdb.Error, e:\n",
    "    print(\"Error {}: {}\".format(e.args[0], e.args[1]))\n",
    "    sys.exit(1)\n",
    "finally:\n",
    "    if con:\n",
    "        con.close()\n",
    "#mdb_get_version()"
   ]
  },
  {
   "cell_type": "markdown",
   "metadata": {},
   "source": [
    "### Table Creation\n",
    "The below functions create the necessary tables for data storage if they do not already exist."
   ]
  },
  {
   "cell_type": "code",
   "execution_count": 77,
   "metadata": {},
   "outputs": [],
   "source": [
    "#def create_tables():\n",
    "\"\"\"\n",
    "Creates the necessary tables (if not already created) for Twitch data storage.\n",
    "\"\"\"\n",
    "con = mdb.connect(host=db_host, user=db_user, passwd=db_pass, db=db_name)\n",
    "\n",
    "with con:\n",
    "    cur = con.cursor()\n",
    "\n",
    "    #Twitch game/creative/irl categories\n",
    "    sql = \"\"\"\n",
    "    CREATE TABLE IF NOT EXISTS categories (\n",
    "        id INT PRIMARY KEY AUTO_INCREMENT,\n",
    "        category VARCHAR(255) NOT NULL UNIQUE\n",
    "    )\n",
    "    \"\"\"\n",
    "    cur.execute(sql)\n",
    "\n",
    "    #Twitch streamers\n",
    "    sql = \"\"\"\n",
    "    CREATE TABLE IF NOT EXISTS streamers (\n",
    "        id INT PRIMARY KEY AUTO_INCREMENT,\n",
    "        streamer VARCHAR(255) NOT NULL UNIQUE\n",
    "    )\n",
    "    \"\"\"\n",
    "    cur.execute(sql)\n",
    "\n",
    "    #Individual stream\n",
    "    \"\"\"\n",
    "    It's important to note here that any game, like Overwatch, will be streamed by multiple streamers.\n",
    "    Similarly, a streamer may stream multiple games, or even stream Overwatch at different times.\n",
    "    The goal of the learning agents will be to see how streaming variables, like stream time, affect\n",
    "    concurrent viewership, if at all.\n",
    "    \"\"\"\n",
    "    sql = \"\"\"\n",
    "    CREATE TABLE IF NOT EXISTS streams (\n",
    "        id INT PRIMARY KEY AUTO_INCREMENT,\n",
    "        current_viewers INT NOT NULL DEFAULT -1,\n",
    "        created_at DATETIME NOT NULL DEFAULT current_timestamp,\n",
    "        followers INT NOT NULL DEFAULT -1,\n",
    "        total_views INT NOT NULL DEFAULT -1,\n",
    "        streamer_id INT NOT NULL DEFAULT -1,\n",
    "        FOREIGN KEY (streamer_id)\n",
    "            REFERENCES streamers(id)\n",
    "            ON DELETE CASCADE,\n",
    "        category_id INT NOT NULL DEFAULT -1,\n",
    "        FOREIGN KEY (category_id)\n",
    "            REFERENCES categories(id)\n",
    "            ON DELETE CASCADE\n",
    "    )\n",
    "    \"\"\"\n",
    "    cur.execute(sql)\n",
    "#create_tables()"
   ]
  },
  {
   "cell_type": "markdown",
   "metadata": {},
   "source": [
    "## Twitch parameters\n",
    "Below the variables for scraping on Twitch are setup. Currently this includes the following:\n",
    "* url strings\n",
    "* categories\n",
    "    * these were chosen from the top 10 streaming categories on 2/2/2018 at 2:40pm"
   ]
  },
  {
   "cell_type": "markdown",
   "metadata": {},
   "source": [
    "### URL strings"
   ]
  },
  {
   "cell_type": "code",
   "execution_count": 25,
   "metadata": {
    "collapsed": true
   },
   "outputs": [],
   "source": [
    "#String for vieweing all current streams for a specified category\n",
    "category_string = \"https://www.twitch.tv/directory/game/{}\"\n",
    "\n",
    "#String for navigating to a specific user's stream\n",
    "stream_string = \"https://www.twitch.tv/{}\""
   ]
  },
  {
   "cell_type": "markdown",
   "metadata": {},
   "source": [
    "### Category strings"
   ]
  },
  {
   "cell_type": "code",
   "execution_count": 104,
   "metadata": {
    "scrolled": false
   },
   "outputs": [
    {
     "name": "stdout",
     "output_type": "stream",
     "text": [
      "Categories:\n",
      "overwatch: {\n",
      "\t\"url\": overwatch,\n",
      "\t\"primary_key\": 50\n",
      "}\n",
      "dota 2: {\n",
      "\t\"url\": dota%202,\n",
      "\t\"primary_key\": 47\n",
      "}\n",
      "playerunknown's battlegrounds: {\n",
      "\t\"url\": playerunknown's%20battlegrounds,\n",
      "\t\"primary_key\": 43\n",
      "}\n",
      "league of legends: {\n",
      "\t\"url\": league%20of%20legends,\n",
      "\t\"primary_key\": 42\n",
      "}\n",
      "grand theft auto v: {\n",
      "\t\"url\": grand%20theft%20auto%20v,\n",
      "\t\"primary_key\": 44\n",
      "}\n",
      "irl: {\n",
      "\t\"url\": irl,\n",
      "\t\"primary_key\": 48\n",
      "}\n",
      "fortnite: {\n",
      "\t\"url\": fortnite,\n",
      "\t\"primary_key\": 41\n",
      "}\n",
      "hearthstone: {\n",
      "\t\"url\": hearthstone,\n",
      "\t\"primary_key\": 45\n",
      "}\n",
      "world of warcraft: {\n",
      "\t\"url\": world%20of%20warcraft,\n",
      "\t\"primary_key\": 49\n",
      "}\n",
      "counter-strike: global offensive: {\n",
      "\t\"url\": counter-strike%3A%20global%20offensive,\n",
      "\t\"primary_key\": 46\n",
      "}\n"
     ]
    }
   ],
   "source": [
    "#Below is a list of the 10 most popular streaming categories on twitch as of\n",
    "#2/2/2018 @ 2:40pm\n",
    "safe_chars = \"'\"\n",
    "categories = [\n",
    "    \"fortnite\",\n",
    "    \"league of legends\",\n",
    "    \"playerunknown\\'s battlegrounds\",\n",
    "    \"grand theft auto v\",\n",
    "    \"hearthstone\",\n",
    "    \"counter-strike: global offensive\",\n",
    "    \"dota 2\",\n",
    "    \"irl\",\n",
    "    \"world of warcraft\",\n",
    "    \"overwatch\"\n",
    "]\n",
    "#categories = [\"irl\"]\n",
    "category_map = {}\n",
    "\n",
    "#Assign category URL mappings (could be avoided by formating URL each time)\n",
    "print(\"Categories:\")\n",
    "for i in range(len(categories)):\n",
    "    c = categories[i]\n",
    "    category_map[c] = {\n",
    "        \"url\": urllib2.quote(c, safe=safe_chars),\n",
    "        #Database primary keys are initialized later in this code cell\n",
    "        \"primary_key\": -1\n",
    "    }\n",
    "    \n",
    "#Initialize database with categories\n",
    "try:\n",
    "    #Connect\n",
    "    con = mdb.connect(host=db_host, user=db_user, passwd=db_pass, db=db_name)\n",
    "    #Set autocommit (otherwise inserts won't be propogated to database)\n",
    "    con.autocommit(True)\n",
    "    cur = con.cursor(mdb.cursors.DictCursor)\n",
    "    \n",
    "    #Only perform following steps if categories table hasn't been initialized\n",
    "    if 0 == cur.execute(\"\"\"SELECT * FROM categories\"\"\"):\n",
    "        #Iterate over categories and insert each\n",
    "        for c in categories:\n",
    "            #Note in the below replace statement, this is for handling escaping of the\n",
    "            #single quote in PLAYERUNKNOWN'S BATTLEGROUNDS\n",
    "            sql = \"\"\"\n",
    "            INSERT INTO categories (category) VALUES ('{}')\n",
    "            \"\"\".format(c.replace(\"'\", \"''\"))\n",
    "            cur.execute(sql)\n",
    "\n",
    "    #Get category/id pairs\n",
    "    sql = \"\"\"\n",
    "    SELECT * FROM categories\n",
    "    \"\"\"\n",
    "    cur.execute(sql)\n",
    "    pairs = cur.fetchall()\n",
    "    #Assign primary keys\n",
    "    for p in pairs:\n",
    "        category_map[p[\"category\"]][\"primary_key\"] = p[\"id\"]\n",
    "finally:\n",
    "    if con:\n",
    "        con.close()\n",
    "    \n",
    "#Print url/id mapping results\n",
    "for k,v in category_map.iteritems():\n",
    "    #print(\"{}, {}, {}\".format(k, v[\"url\"], v[\"primary_key\"]))\n",
    "    print('{}: {{\\n\\t\"url\": {},\\n\\t\"primary_key\": {}\\n}}'.format(k, v[\"url\"], v[\"primary_key\"]))"
   ]
  },
  {
   "cell_type": "markdown",
   "metadata": {},
   "source": [
    "## Data collection"
   ]
  },
  {
   "cell_type": "markdown",
   "metadata": {},
   "source": [
    "### Converting inputs\n",
    "The below function converts strings of the form \"1,234,567,890\" to numerics 1234567890."
   ]
  },
  {
   "cell_type": "code",
   "execution_count": 41,
   "metadata": {
    "collapsed": true
   },
   "outputs": [],
   "source": [
    "def twitch_numberfy(s):\n",
    "    return int(s.replace(\",\", \"\"))"
   ]
  },
  {
   "cell_type": "markdown",
   "metadata": {},
   "source": [
    "### Scraping\n",
    "The scraping module below is responsible for collecting data about all live streams currently streaming under 1 of the categories defined above. The driver does the following steps:\n",
    "* Navigate to category *C*'s browse page\n",
    "    * Collect the available streams (these should be the streams with the most concurrent viewers)\n",
    "    * Scroll to the bottom of the page in an attempt to load more streams\n",
    "    * Repeat this process until no new streams are found\n",
    "* Store category *C* streams"
   ]
  },
  {
   "cell_type": "code",
   "execution_count": 60,
   "metadata": {
    "scrolled": false
   },
   "outputs": [
    {
     "name": "stdout",
     "output_type": "stream",
     "text": [
      "---Irl---\n",
      "Scrolling for 0.0 seconds ... \n",
      "Streams: 30\n",
      "Time for retrieval and unwrapping of streams: 1.85899996758s\n",
      "\n",
      "\n",
      "bratishkinoff                          [DONE]\n",
      "wtcNN                                  [DONE]\n",
      "aXtLOL                                 [DONE]\n",
      "Amouranth                              [DONE]\n",
      "Theokoles                              [DONE]\n",
      "WingsOfRedemption                      [DONE]\n",
      "HellYeahPlay                           [DONE]\n",
      "DieHahn                                [DONE]\n",
      "Kw3nji                                 [DONE]\n",
      "The8BitDrummer                         [DONE]\n",
      "StephenFRA                             [DONE]\n",
      "ArtiFixOfficial                        [DONE]\n",
      "Bajheera                               [DONE]\n",
      "thisEguy                               [DONE]\n",
      "dasMEHDI                               [DONE]\n",
      "wayne379                               [DONE]\n",
      "kiichichaosreigns                      [DONE]\n",
      "CryptoWorldNews                        [DONE]\n",
      "jasmynnive                             [DONE]\n",
      "lerasplay                              [DONE]\n",
      "littlemissbendy                        [DONE]\n",
      "miss_angeliquew                        [DONE]\n",
      "OKathletes                             [DONE]\n",
      "MEGERA322                              [DONE]\n",
      "Aelish_Shapely                         [DONE]\n",
      "Fleeur                                 [DONE]\n",
      "MaryJLeeee                             [DONE]\n",
      "malukah                                [DONE]\n",
      "TheTji                                 [DONE]\n",
      "neco3842                               [DONE]\n"
     ]
    }
   ],
   "source": [
    "#Stream map\n",
    "stream_map = {}\n",
    "\n",
    "#Spin up browser\n",
    "driver = webdriver.Chrome()\n",
    "\n",
    "#Number of times to scroll down a page at a time\n",
    "scrolls = 0\n",
    "#Time to sleep between scrolls\n",
    "sleeptime = 0.5\n",
    "\n",
    "#Iterate over each category\n",
    "for c in category_map:\n",
    "    print(\"---{}---\".format(c.title()))\n",
    "    start = time()\n",
    "    #Load up page\n",
    "    driver.get(category_map[c][\"url\"])\n",
    "    \n",
    "    #Streams for storage\n",
    "    streams = []\n",
    "    \n",
    "    try:\n",
    "        #Wait for page to load at least 1 stream\n",
    "        element = WebDriverWait(driver, 1).until(\n",
    "                EC.presence_of_element_located((By.CLASS_NAME, \"stream-thumbnail\")))\n",
    "        \n",
    "        #Loop to get more streams\n",
    "        prev_stream_count = -1\n",
    "        while True:            \n",
    "            #Assign global scrollable element for access through other scripts\n",
    "            scroll_script = \"\"\"\n",
    "            window.s = document.getElementsByClassName(\"root-scrollable__wrapper\")[0].parentElement.parentElement;\n",
    "            \"\"\"\n",
    "            driver.execute_script(scroll_script)\n",
    "            \n",
    "            #Scroll\n",
    "            scroll_script = \"\"\"\n",
    "            window.s.scrollTo(0, window.s.scrollHeight);\n",
    "            \"\"\"\n",
    "            print(\"Scrolling for {} seconds ... \".format(scrolls * sleeptime))\n",
    "            for i in range(scrolls):\n",
    "                driver.execute_script(scroll_script)\n",
    "                sleep(sleeptime)\n",
    "                \n",
    "            #Find streams\n",
    "            streams = driver.find_elements_by_class_name(\"live-channel-card__videos\")\n",
    "            #Find text in parent containing concurrent viewers\n",
    "            streams = map(lambda e: e.find_element_by_xpath(\"..\").text, streams)\n",
    "            \n",
    "            #Display last scraped data\n",
    "            print(\"Streams: {}\".format(len(streams)))\n",
    "            \n",
    "            #If last stream obtained has 0 viewers, break\n",
    "            if prev_stream_count == len(streams):\n",
    "                break\n",
    "            prev_stream_count = len(streams)\n",
    "            break\n",
    "    finally:\n",
    "        print(\"Time for retrieval and unwrapping of streams: {}s\\n\\n\".format(time() - start))\n",
    "    \n",
    "    #Iterate over streams\n",
    "    for s in streams:\n",
    "        #Add kvp mapping for streamer\n",
    "        streamer = s.split(\" \")[-1]\n",
    "        #Foreign players with non-english characters have \"(name_here)\"\n",
    "        if \"(\" in streamer:\n",
    "            streamer = streamer[1:-1]\n",
    "        \n",
    "        #Load up page\n",
    "        print(\"{}\".ljust(40 - len(streamer), \" \").format(streamer)),\n",
    "        driver.get(stream_string.format(streamer))\n",
    "        try:\n",
    "            #Wait for page to load total viewer count\n",
    "            #element = WebDriverWait(driver, 5).until(\n",
    "            #        EC.text_to_be_present_in_element((By.CLASS_NAME, \"tw-stat__value\")))\n",
    "            sleep(1)\n",
    "            \n",
    "            #Record stats\n",
    "            #Followers\n",
    "            followers = twitch_numberfy(\n",
    "                driver.find_elements_by_class_name(\n",
    "                    \"channel-header__item-count\")[1].find_element_by_tag_name(\"span\").get_attribute(\"innerHTML\"))\n",
    "            #Current viewers and total views\n",
    "            bottom_stats = driver.find_elements_by_class_name(\"tw-stat__value\")\n",
    "            if len(bottom_stats) == 0:\n",
    "                #Hosting, so skip\n",
    "                print(\"[HOSTING->SKIPPED]\")\n",
    "                continue\n",
    "            current_viewers = twitch_numberfy(bottom_stats[0].get_attribute(\"innerHTML\"))\n",
    "            total_views = twitch_numberfy(bottom_stats[1].get_attribute(\"innerHTML\"))\n",
    "            \n",
    "            #Store in dictionary\n",
    "            stream_map[streamer] = {\n",
    "                \"followers\": followers,\n",
    "                \"current_viewers\": current_viewers,\n",
    "                \"total_views\": total_views\n",
    "            }\n",
    "            print(\"[DONE]\")\n",
    "        except (RuntimeError, TypeError, NameError):\n",
    "            print(\"[ERROR->SKIPPED]\")\n",
    "\n",
    "#Close browser\n",
    "driver.close()"
   ]
  },
  {
   "cell_type": "code",
   "execution_count": 73,
   "metadata": {},
   "outputs": [
    {
     "name": "stdout",
     "output_type": "stream",
     "text": [
      "Result: 0\n",
      "36\n"
     ]
    }
   ],
   "source": [
    "try:\n",
    "    #Connect\n",
    "    con = mdb.connect(host=db_host, user=db_user, passwd=db_pass, db=db_name)\n",
    "    #Set autocommit (otherwise inserts won't be propogated to database)\n",
    "    con.autocommit(True)\n",
    "    #cur = con.cursor()\n",
    "    cur = con.cursor(mdb.cursors.DictCursor)\n",
    "    \n",
    "    #Decide if new streamer\n",
    "    strimmer = \"7abc7\"\n",
    "    sql = \"\"\"\n",
    "    SELECT * FROM streamers WHERE streamer='{}'\n",
    "    \"\"\".format(strimmer)\n",
    "    result = cur.execute(sql)\n",
    "    print(\"Result: {}\".format(result))\n",
    "    \n",
    "    strimmer_id = -1\n",
    "    #If 0 < result, then streamer already has an entry, so get their primary key\n",
    "    if 0 < result:\n",
    "        #Only 1 can exist, the varchar is unique\n",
    "        strimmer_id = cur.fetchall()[0][\"id\"]\n",
    "    #Otherwise, this is a new streamer\n",
    "    else:\n",
    "        #Insert new entry\n",
    "        sql = \"\"\"\n",
    "        INSERT INTO streamers (streamer) VALUES ('{}')\n",
    "        \"\"\".format(strimmer)\n",
    "        cur.execute(sql)\n",
    "        #Get primary key of last row inserted into ANY table\n",
    "        strimmer_id = cur.lastrowid\n",
    "        \n",
    "    print(strimmer_id)\n",
    "finally:\n",
    "    if con:\n",
    "        con.close()"
   ]
  }
 ],
 "metadata": {
  "kernelspec": {
   "display_name": "Python 2",
   "language": "python",
   "name": "python2"
  },
  "language_info": {
   "codemirror_mode": {
    "name": "ipython",
    "version": 2
   },
   "file_extension": ".py",
   "mimetype": "text/x-python",
   "name": "python",
   "nbconvert_exporter": "python",
   "pygments_lexer": "ipython2",
   "version": "2.7.13"
  }
 },
 "nbformat": 4,
 "nbformat_minor": 2
}
