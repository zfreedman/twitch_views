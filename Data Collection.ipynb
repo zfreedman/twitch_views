{
 "cells": [
  {
   "cell_type": "markdown",
   "metadata": {},
   "source": [
    "# Data Collection\n",
    "This noteboook is responsible for autonomously collecting Twitch follower, concurrent view, and total view data."
   ]
  },
  {
   "cell_type": "markdown",
   "metadata": {},
   "source": [
    "## Imports"
   ]
  },
  {
   "cell_type": "code",
   "execution_count": 3,
   "metadata": {
    "collapsed": true
   },
   "outputs": [],
   "source": [
    "#SQL connection and queries\n",
    "import MySQLdb as mdb\n",
    "#Connection failure exiting\n",
    "import sys\n",
    "#Getting current time (after data is scraped) for stream table\n",
    "from time import gmtime, strftime, time\n",
    "#Scraping\n",
    "import urllib2\n",
    "from bs4 import BeautifulSoup as bs\n",
    "#Web automation\n",
    "from selenium import webdriver\n",
    "from selenium.webdriver.support.ui import WebDriverWait"
   ]
  },
  {
   "cell_type": "markdown",
   "metadata": {},
   "source": [
    "## File data\n",
    "Below the database credentials are read in. These are used for logging into the database, creating the necessary tables (if not already created), and storing data."
   ]
  },
  {
   "cell_type": "code",
   "execution_count": 4,
   "metadata": {
    "collapsed": true
   },
   "outputs": [],
   "source": [
    "db_user = \"\"\n",
    "db_pass = \"\"\n",
    "db_name = \"\"\n",
    "db_host = \"localhost\"\n",
    "with open(\"database_credentials.txt\") as f:\n",
    "    db_user = f.readline().strip()\n",
    "    db_pass = f.readline().strip()\n",
    "    db_name = f.readline().strip()\n",
    "#print(db_user, db_pass, db_name)"
   ]
  },
  {
   "cell_type": "markdown",
   "metadata": {},
   "source": [
    "## Database\n",
    "### Versioning\n",
    "Below the database is accessed using the specified username, password, and database name above. Note if the below code errors out, the rest of the database operations in this file will not produce expeted results (most likely will flat out not work)."
   ]
  },
  {
   "cell_type": "code",
   "execution_count": 5,
   "metadata": {
    "scrolled": true
   },
   "outputs": [
    {
     "name": "stdout",
     "output_type": "stream",
     "text": [
      "Database version: ('5.7.21-log',)\n"
     ]
    }
   ],
   "source": [
    "#Connect\n",
    "def mdb_get_version():\n",
    "    \"\"\"\n",
    "    Connects to the database above using the obtained credentials.\n",
    "    \"\"\"\n",
    "    con = None\n",
    "    try:\n",
    "        con = mdb.connect(host=db_host, user=db_user, passwd=db_pass, db=db_name)\n",
    "        cur = con.cursor()\n",
    "        cur.execute(\"SELECT VERSION()\")\n",
    "        data = cur.fetchone()\n",
    "        print(\"Database version: {}\".format(data))\n",
    "    except mdb.Error, e:\n",
    "        print(\"Error {}: {}\".format(e.args[0], e.args[1]))\n",
    "        sys.exit(1)\n",
    "    finally:\n",
    "        if con:\n",
    "            con.close()\n",
    "mdb_get_version()"
   ]
  },
  {
   "cell_type": "markdown",
   "metadata": {},
   "source": [
    "### Table Creation\n",
    "The below functions create the necessary tables for data storage if they do not already exist."
   ]
  },
  {
   "cell_type": "code",
   "execution_count": 6,
   "metadata": {},
   "outputs": [
    {
     "name": "stderr",
     "output_type": "stream",
     "text": [
      "C:\\Users\\unknown\\AppData\\Local\\conda\\conda\\envs\\twitch_views\\lib\\site-packages\\ipykernel_launcher.py:17: Warning: Table 'categories' already exists\n",
      "C:\\Users\\unknown\\AppData\\Local\\conda\\conda\\envs\\twitch_views\\lib\\site-packages\\ipykernel_launcher.py:26: Warning: Table 'streamers' already exists\n",
      "C:\\Users\\unknown\\AppData\\Local\\conda\\conda\\envs\\twitch_views\\lib\\site-packages\\ipykernel_launcher.py:52: Warning: Table 'streams' already exists\n"
     ]
    }
   ],
   "source": [
    "def create_tables():\n",
    "    \"\"\"\n",
    "    Creates the necessary tables (if not already created) for Twitch data storage.\n",
    "    \"\"\"\n",
    "    con = mdb.connect(host=db_host, user=db_user, passwd=db_pass, db=db_name)\n",
    "    \n",
    "    with con:\n",
    "        cur = con.cursor()\n",
    "        \n",
    "        #Twitch game/creative/irl categories\n",
    "        sql = \"\"\"\n",
    "        CREATE TABLE IF NOT EXISTS categories (\n",
    "        id INT PRIMARY KEY AUTO_INCREMENT,\n",
    "        category VARCHAR(255) NOT NULL UNIQUE\n",
    "        )\n",
    "        \"\"\"\n",
    "        cur.execute(sql)\n",
    "        \n",
    "        #Twitch streamers\n",
    "        sql = \"\"\"\n",
    "        CREATE TABLE IF NOT EXISTS streamers (\n",
    "        id INT PRIMARY KEY AUTO_INCREMENT,\n",
    "        streamer VARCHAR(255) NOT NULL UNIQUE\n",
    "        )\n",
    "        \"\"\"\n",
    "        cur.execute(sql)\n",
    "        \n",
    "        #Individual stream\n",
    "        \"\"\"\n",
    "        It's important to note here that any game, like Overwatch, will be streamed by multiple streamers.\n",
    "        Similarly, a streamer may stream multiple games, or even stream Overwatch at different times.\n",
    "        The goal of the learning agents will be to see how streaming variables, like stream time, affect\n",
    "        concurrent viewership, if at all.\n",
    "        \"\"\"\n",
    "        sql = \"\"\"\n",
    "        CREATE TABLE IF NOT EXISTS streams (\n",
    "        id INT PRIMARY KEY AUTO_INCREMENT,\n",
    "        current_viewers INT NOT NULL DEFAULT -1,\n",
    "        created_at DATETIME NOT NULL DEFAULT current_timestamp,\n",
    "        followers INT NOT NULL DEFAULT -1,\n",
    "        total_views INT NOT NULL DEFAULT -1,\n",
    "        streamer_id INT NOT NULL DEFAULT -1,\n",
    "        FOREIGN KEY (streamer_id)\n",
    "            REFERENCES streamers(id)\n",
    "            ON DELETE CASCADE,\n",
    "        category_id INT NOT NULL DEFAULT -1,\n",
    "        FOREIGN KEY (category_id)\n",
    "            REFERENCES categories(id)\n",
    "            ON DELETE CASCADE\n",
    "        )\n",
    "        \"\"\"\n",
    "        cur.execute(sql)\n",
    "create_tables()"
   ]
  },
  {
   "cell_type": "markdown",
   "metadata": {},
   "source": [
    "## Twitch parameters\n",
    "Below the variables for scraping on Twitch are setup. Currently this includes the following:\n",
    "* url strings\n",
    "* categories\n",
    "    * these were chosen from the top 10 streaming categories on 2/2/2018 at 2:40pm"
   ]
  },
  {
   "cell_type": "markdown",
   "metadata": {},
   "source": [
    "### URL strings"
   ]
  },
  {
   "cell_type": "code",
   "execution_count": 7,
   "metadata": {
    "collapsed": true
   },
   "outputs": [],
   "source": [
    "#String for vieweing all current streams for a specified category\n",
    "category_string = \"https://www.twitch.tv/directory/game/{}\"\n",
    "\n",
    "#String for navigating to a specific user's stream\n",
    "stream_string = \"https://www.twitch.tv/{}\""
   ]
  },
  {
   "cell_type": "markdown",
   "metadata": {},
   "source": [
    "### Category strings"
   ]
  },
  {
   "cell_type": "code",
   "execution_count": 8,
   "metadata": {},
   "outputs": [
    {
     "name": "stdout",
     "output_type": "stream",
     "text": [
      "Categories:\n",
      "\t0. fortnite: https://www.twitch.tv/directory/game/fortnite\n",
      "\t1. league of legends: https://www.twitch.tv/directory/game/league%20of%20legends\n",
      "\t2. playerunknown's battlegrounds: https://www.twitch.tv/directory/game/playerunknown's%20battlegrounds\n",
      "\t3. grand theft auto v: https://www.twitch.tv/directory/game/grand%20theft%20auto%20v\n",
      "\t4. hearthstone: https://www.twitch.tv/directory/game/hearthstone\n",
      "\t5. counter-strike: global offensive: https://www.twitch.tv/directory/game/counter-strike%3A%20global%20offensive\n",
      "\t6. dota 2: https://www.twitch.tv/directory/game/dota%202\n",
      "\t7. irl: https://www.twitch.tv/directory/game/irl\n",
      "\t8. world of warcraft: https://www.twitch.tv/directory/game/world%20of%20warcraft\n",
      "\t9. overwatch: https://www.twitch.tv/directory/game/overwatch\n"
     ]
    }
   ],
   "source": [
    "#Below is a list of the 10 most popular streaming categories on twitch as of\n",
    "#2/2/2018 @ 2:40pm\n",
    "safe_chars = \"'\"\n",
    "categories = [\n",
    "    \"fortnite\",\n",
    "    \"league of legends\",\n",
    "    \"playerunknown's battlegrounds\",\n",
    "    \"grand theft auto v\",\n",
    "    \"hearthstone\",\n",
    "    \"counter-strike: global offensive\",\n",
    "    \"dota 2\",\n",
    "    \"irl\", \"world of warcraft\",\n",
    "    \"overwatch\"\n",
    "]\n",
    "category_map = {}\n",
    "category_url_strin = map(lambda s : urllib2.quote(s, safe=safe_chars), [\n",
    "    \"fortnite\",\n",
    "    \"league of legends\",\n",
    "    \"playerunknown's battlegrounds\",\n",
    "    \"grand theft auto v\",\n",
    "    \"hearthstone\",\n",
    "    \"counter-strike: global offensive\",\n",
    "    \"dota 2\",\n",
    "    \"irl\", \"world of warcraft\",\n",
    "    \"overwatch\"\n",
    "])\n",
    "print(\"Categories:\")\n",
    "for i in range(len(categories)):\n",
    "    c = categories[i]\n",
    "    category_map[c] = category_string.format(urllib2.quote(c, safe=safe_chars))\n",
    "    print(\"\\t{}. {}: {}\".format(i, c, category_map[c]))"
   ]
  },
  {
   "cell_type": "markdown",
   "metadata": {},
   "source": [
    "## Data collection"
   ]
  },
  {
   "cell_type": "markdown",
   "metadata": {},
   "source": [
    "## Stream collector\n",
    "The below code implements a function which collects all users currently streaming the category the soup parameter references."
   ]
  },
  {
   "cell_type": "code",
   "execution_count": 21,
   "metadata": {
    "collapsed": true
   },
   "outputs": [],
   "source": [
    "def stream_collector(soup):\n",
    "    \"\"\"\n",
    "    This function returns a list of users currently streaming the category specified\n",
    "    by the soup parameter.\n",
    "    \"\"\"\n",
    "    container = soup.find(\"div\", {\"class\": \"tw-tower tw-tower--gutter-sm tw-tower--240 tw-flex-wrap\"})\n",
    "    #container = map(lambda a : )\n",
    "    #streams = container.find_all(\"a\", {\"class\": \"live-channel_card__videos\"})\n",
    "    streams = container.find_all(\"a\", {\"class\": \"stream-thumbnail\"})\n",
    "    streams2 = map(lambda e : e.getText(), streams)\n",
    "    print(streams2)\n",
    "    return len(streams2)"
   ]
  },
  {
   "cell_type": "code",
   "execution_count": 20,
   "metadata": {},
   "outputs": [
    {
     "data": {
      "text/plain": [
       "u'hey'"
      ]
     },
     "execution_count": 20,
     "metadata": {},
     "output_type": "execute_result"
    }
   ],
   "source": [
    "s = bs(\"<h1><h2>hey</h2></h1>\")"
   ]
  },
  {
   "cell_type": "markdown",
   "metadata": {},
   "source": [
    "### Scraping"
   ]
  },
  {
   "cell_type": "code",
   "execution_count": 27,
   "metadata": {
    "collapsed": true
   },
   "outputs": [],
   "source": [
    "from selenium import webdriver\n",
    "from selenium.webdriver.common.by import By\n",
    "from selenium.webdriver.support.ui import WebDriverWait\n",
    "from selenium.webdriver.support import expected_conditions as EC"
   ]
  },
  {
   "cell_type": "code",
   "execution_count": 31,
   "metadata": {},
   "outputs": [
    {
     "name": "stdout",
     "output_type": "stream",
     "text": [
      "Overwatch\n"
     ]
    }
   ],
   "source": [
    "#Spin up browser\n",
    "driver = webdriver.Firefox()\n",
    "#driver.implicitly_wait(10)\n",
    "\n",
    "#Iterate over each category\n",
    "for c in category_map:\n",
    "    print(\"{}\".format(c.title()))\n",
    "    start = time()\n",
    "    driver.get(category_map[c])\n",
    "    #Wait for the page to load (in seconds)\n",
    "    #soup = bs(driver.page_source)\n",
    "    \n",
    "    try:\n",
    "        element = WebDriverWait(driver, 10).until(\n",
    "            EC.presence_of_element_located((By.CLASS_NAME, \"live-channel-card__videos\")))\n",
    "        \n",
    "        container = driver.find_element_by_class_name(\"tw-flex-shrink-0\")\n",
    "        streams = container.find_elements_by_class_name(\"live-channel-card__videos\")\n",
    "        print(\"Streams: \" + len(streams))\n",
    "    finally:\n",
    "        break\n",
    "        driver.quit()\n",
    "        \n",
    "    print(\"Time for retrieval and unwrapping of streams: {}s\".format(time() - start))\n",
    "    \n",
    "    #Get streams\n",
    "    #print(stream_collector(soup))"
   ]
  },
  {
   "cell_type": "code",
   "execution_count": null,
   "metadata": {
    "collapsed": true
   },
   "outputs": [],
   "source": [
    "from time import localtime, strftime\n",
    "strftime(\"%Y-%m-%d %H:%M:%S\", localtime())"
   ]
  }
 ],
 "metadata": {
  "kernelspec": {
   "display_name": "Python 2",
   "language": "python",
   "name": "python2"
  },
  "language_info": {
   "codemirror_mode": {
    "name": "ipython",
    "version": 2
   },
   "file_extension": ".py",
   "mimetype": "text/x-python",
   "name": "python",
   "nbconvert_exporter": "python",
   "pygments_lexer": "ipython2",
   "version": "2.7.13"
  }
 },
 "nbformat": 4,
 "nbformat_minor": 2
}
